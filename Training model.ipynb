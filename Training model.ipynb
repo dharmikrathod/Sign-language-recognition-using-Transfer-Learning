{
  "nbformat": 4,
  "nbformat_minor": 0,
  "metadata": {
    "colab": {
      "provenance": [],
      "gpuType": "T4"
    },
    "kernelspec": {
      "name": "python3",
      "display_name": "Python 3"
    },
    "language_info": {
      "name": "python"
    },
    "accelerator": "GPU"
  },
  "cells": [
    {
      "cell_type": "code",
      "execution_count": 1,
      "metadata": {
        "id": "O7GjOSzTPOQn"
      },
      "outputs": [],
      "source": [
        "import zipfile\n",
        "zip_ref = zipfile.ZipFile('/content/finetuning.zip', 'r')\n",
        "zip_ref.extractall('/content')\n",
        "zip_ref.close()"
      ]
    },
    {
      "cell_type": "code",
      "source": [
        "from keras.preprocessing.image import ImageDataGenerator\n",
        "from keras.preprocessing import image\n",
        "from keras.applications import imagenet_utils\n",
        "from keras.applications import vgg16\n",
        "from keras.optimizers import Adam, SGD\n",
        "from keras.metrics import categorical_crossentropy\n",
        "from keras.layers import Dense, Flatten, Dropout, BatchNormalization\n",
        "from keras.models import Model\n",
        "from sklearn.metrics import confusion_matrix\n",
        "import itertools\n",
        "import matplotlib.pyplot as plt\n",
        "%matplotlib inline"
      ],
      "metadata": {
        "id": "E4zl9HZkPzPS"
      },
      "execution_count": 2,
      "outputs": []
    },
    {
      "cell_type": "code",
      "source": [
        "train_path = 'Data/train'\n",
        "valid_path = 'Data/valid'\n",
        "test_path = 'Data/test'\n",
        "\n",
        "train_batches = ImageDataGenerator().flow_from_directory(train_path,\n",
        "                                                         target_size = (224,224),\n",
        "                                                         batch_size = 10)\n",
        "\n",
        "valid_batches = ImageDataGenerator().flow_from_directory(valid_path,\n",
        "                                                         target_size = (224,224),\n",
        "                                                         batch_size = 30)\n",
        "\n",
        "test_batches = ImageDataGenerator().flow_from_directory(test_path,\n",
        "                                                         target_size = (224,224),\n",
        "                                                         batch_size = 50,\n",
        "                                                        shuffle = False)"
      ],
      "metadata": {
        "colab": {
          "base_uri": "https://localhost:8080/"
        },
        "id": "oL09cd8MRCf7",
        "outputId": "b68a28b1-97c1-417e-aa37-a6d1297f6487"
      },
      "execution_count": 3,
      "outputs": [
        {
          "output_type": "stream",
          "name": "stdout",
          "text": [
            "Found 1712 images belonging to 10 classes.\n",
            "Found 300 images belonging to 10 classes.\n",
            "Found 50 images belonging to 10 classes.\n"
          ]
        }
      ]
    },
    {
      "cell_type": "code",
      "source": [
        "base_model = vgg16.VGG16(weights = 'imagenet', include_top=False, input_shape=(224,224,3), pooling = 'avg')"
      ],
      "metadata": {
        "colab": {
          "base_uri": "https://localhost:8080/"
        },
        "id": "72EiI4gwRvcf",
        "outputId": "35404d11-8274-4267-8da7-c2255dd3d3bd"
      },
      "execution_count": 4,
      "outputs": [
        {
          "output_type": "stream",
          "name": "stdout",
          "text": [
            "Downloading data from https://storage.googleapis.com/tensorflow/keras-applications/vgg16/vgg16_weights_tf_dim_ordering_tf_kernels_notop.h5\n",
            "58889256/58889256 [==============================] - 4s 0us/step\n"
          ]
        }
      ]
    },
    {
      "cell_type": "code",
      "source": [
        "for layer in base_model.layers[:-5]:\n",
        "  layer.trainable = False\n",
        "\n",
        "base_model.summary()"
      ],
      "metadata": {
        "colab": {
          "base_uri": "https://localhost:8080/"
        },
        "id": "rc7-aa7mSFZx",
        "outputId": "1a91f646-9861-4528-f19a-c52d0f3eacaa"
      },
      "execution_count": 5,
      "outputs": [
        {
          "output_type": "stream",
          "name": "stdout",
          "text": [
            "Model: \"vgg16\"\n",
            "_________________________________________________________________\n",
            " Layer (type)                Output Shape              Param #   \n",
            "=================================================================\n",
            " input_1 (InputLayer)        [(None, 224, 224, 3)]     0         \n",
            "                                                                 \n",
            " block1_conv1 (Conv2D)       (None, 224, 224, 64)      1792      \n",
            "                                                                 \n",
            " block1_conv2 (Conv2D)       (None, 224, 224, 64)      36928     \n",
            "                                                                 \n",
            " block1_pool (MaxPooling2D)  (None, 112, 112, 64)      0         \n",
            "                                                                 \n",
            " block2_conv1 (Conv2D)       (None, 112, 112, 128)     73856     \n",
            "                                                                 \n",
            " block2_conv2 (Conv2D)       (None, 112, 112, 128)     147584    \n",
            "                                                                 \n",
            " block2_pool (MaxPooling2D)  (None, 56, 56, 128)       0         \n",
            "                                                                 \n",
            " block3_conv1 (Conv2D)       (None, 56, 56, 256)       295168    \n",
            "                                                                 \n",
            " block3_conv2 (Conv2D)       (None, 56, 56, 256)       590080    \n",
            "                                                                 \n",
            " block3_conv3 (Conv2D)       (None, 56, 56, 256)       590080    \n",
            "                                                                 \n",
            " block3_pool (MaxPooling2D)  (None, 28, 28, 256)       0         \n",
            "                                                                 \n",
            " block4_conv1 (Conv2D)       (None, 28, 28, 512)       1180160   \n",
            "                                                                 \n",
            " block4_conv2 (Conv2D)       (None, 28, 28, 512)       2359808   \n",
            "                                                                 \n",
            " block4_conv3 (Conv2D)       (None, 28, 28, 512)       2359808   \n",
            "                                                                 \n",
            " block4_pool (MaxPooling2D)  (None, 14, 14, 512)       0         \n",
            "                                                                 \n",
            " block5_conv1 (Conv2D)       (None, 14, 14, 512)       2359808   \n",
            "                                                                 \n",
            " block5_conv2 (Conv2D)       (None, 14, 14, 512)       2359808   \n",
            "                                                                 \n",
            " block5_conv3 (Conv2D)       (None, 14, 14, 512)       2359808   \n",
            "                                                                 \n",
            " block5_pool (MaxPooling2D)  (None, 7, 7, 512)         0         \n",
            "                                                                 \n",
            " global_average_pooling2d (G  (None, 512)              0         \n",
            " lobalAveragePooling2D)                                          \n",
            "                                                                 \n",
            "=================================================================\n",
            "Total params: 14,714,688\n",
            "Trainable params: 7,079,424\n",
            "Non-trainable params: 7,635,264\n",
            "_________________________________________________________________\n"
          ]
        }
      ]
    },
    {
      "cell_type": "code",
      "source": [
        "last_output = base_model.output\n",
        "x = Dense(10, activation = 'softmax', name = 'softmax')(last_output)\n",
        "new_model = Model(inputs = base_model.input, outputs = x)\n",
        "new_model.summary()"
      ],
      "metadata": {
        "colab": {
          "base_uri": "https://localhost:8080/"
        },
        "id": "D4IO-ucCST-V",
        "outputId": "ffe60039-a32a-4c34-8999-347fb551fd82"
      },
      "execution_count": 7,
      "outputs": [
        {
          "output_type": "stream",
          "name": "stdout",
          "text": [
            "Model: \"model\"\n",
            "_________________________________________________________________\n",
            " Layer (type)                Output Shape              Param #   \n",
            "=================================================================\n",
            " input_1 (InputLayer)        [(None, 224, 224, 3)]     0         \n",
            "                                                                 \n",
            " block1_conv1 (Conv2D)       (None, 224, 224, 64)      1792      \n",
            "                                                                 \n",
            " block1_conv2 (Conv2D)       (None, 224, 224, 64)      36928     \n",
            "                                                                 \n",
            " block1_pool (MaxPooling2D)  (None, 112, 112, 64)      0         \n",
            "                                                                 \n",
            " block2_conv1 (Conv2D)       (None, 112, 112, 128)     73856     \n",
            "                                                                 \n",
            " block2_conv2 (Conv2D)       (None, 112, 112, 128)     147584    \n",
            "                                                                 \n",
            " block2_pool (MaxPooling2D)  (None, 56, 56, 128)       0         \n",
            "                                                                 \n",
            " block3_conv1 (Conv2D)       (None, 56, 56, 256)       295168    \n",
            "                                                                 \n",
            " block3_conv2 (Conv2D)       (None, 56, 56, 256)       590080    \n",
            "                                                                 \n",
            " block3_conv3 (Conv2D)       (None, 56, 56, 256)       590080    \n",
            "                                                                 \n",
            " block3_pool (MaxPooling2D)  (None, 28, 28, 256)       0         \n",
            "                                                                 \n",
            " block4_conv1 (Conv2D)       (None, 28, 28, 512)       1180160   \n",
            "                                                                 \n",
            " block4_conv2 (Conv2D)       (None, 28, 28, 512)       2359808   \n",
            "                                                                 \n",
            " block4_conv3 (Conv2D)       (None, 28, 28, 512)       2359808   \n",
            "                                                                 \n",
            " block4_pool (MaxPooling2D)  (None, 14, 14, 512)       0         \n",
            "                                                                 \n",
            " block5_conv1 (Conv2D)       (None, 14, 14, 512)       2359808   \n",
            "                                                                 \n",
            " block5_conv2 (Conv2D)       (None, 14, 14, 512)       2359808   \n",
            "                                                                 \n",
            " block5_conv3 (Conv2D)       (None, 14, 14, 512)       2359808   \n",
            "                                                                 \n",
            " block5_pool (MaxPooling2D)  (None, 7, 7, 512)         0         \n",
            "                                                                 \n",
            " global_average_pooling2d (G  (None, 512)              0         \n",
            " lobalAveragePooling2D)                                          \n",
            "                                                                 \n",
            " softmax (Dense)             (None, 10)                5130      \n",
            "                                                                 \n",
            "=================================================================\n",
            "Total params: 14,719,818\n",
            "Trainable params: 7,084,554\n",
            "Non-trainable params: 7,635,264\n",
            "_________________________________________________________________\n"
          ]
        }
      ]
    },
    {
      "cell_type": "code",
      "source": [
        "new_model.compile(Adam(lr = 0.0001), loss = 'categorical_crossentropy', metrics = ['accuracy'])\n",
        "\n",
        "from keras.callbacks import ModelCheckpoint\n",
        "checkpointer = ModelCheckpoint(filepath = 'signlanguage.model.hdf5', save_best_only=True)\n",
        "\n",
        "history = new_model.fit_generator(train_batches, steps_per_epoch=18, validation_data=valid_batches,\n",
        "                                  validation_steps = 3, epochs =20, verbose = 1, callbacks = [checkpointer])"
      ],
      "metadata": {
        "colab": {
          "base_uri": "https://localhost:8080/"
        },
        "id": "yvHzR6maS0tt",
        "outputId": "1835ddc8-f0b2-4749-92c1-c30b1a7cb548"
      },
      "execution_count": 8,
      "outputs": [
        {
          "output_type": "stream",
          "name": "stderr",
          "text": [
            "/usr/local/lib/python3.10/dist-packages/keras/optimizers/legacy/adam.py:117: UserWarning: The `lr` argument is deprecated, use `learning_rate` instead.\n",
            "  super().__init__(name, **kwargs)\n",
            "<ipython-input-8-a3542a470c97>:6: UserWarning: `Model.fit_generator` is deprecated and will be removed in a future version. Please use `Model.fit`, which supports generators.\n",
            "  history = new_model.fit_generator(train_batches, steps_per_epoch=18, validation_data=valid_batches,\n"
          ]
        },
        {
          "output_type": "stream",
          "name": "stdout",
          "text": [
            "Epoch 1/20\n",
            "18/18 [==============================] - 17s 374ms/step - loss: 3.8705 - accuracy: 0.2111 - val_loss: 2.0368 - val_accuracy: 0.3444\n",
            "Epoch 2/20\n",
            "18/18 [==============================] - 2s 122ms/step - loss: 1.7949 - accuracy: 0.3722 - val_loss: 1.5514 - val_accuracy: 0.4667\n",
            "Epoch 3/20\n",
            "18/18 [==============================] - 2s 139ms/step - loss: 1.1363 - accuracy: 0.6111 - val_loss: 1.0327 - val_accuracy: 0.6111\n",
            "Epoch 4/20\n",
            "18/18 [==============================] - 2s 110ms/step - loss: 0.6928 - accuracy: 0.7667 - val_loss: 0.6545 - val_accuracy: 0.8333\n",
            "Epoch 5/20\n",
            "18/18 [==============================] - 2s 125ms/step - loss: 0.5571 - accuracy: 0.8222 - val_loss: 0.3487 - val_accuracy: 0.9111\n",
            "Epoch 6/20\n",
            "18/18 [==============================] - 2s 114ms/step - loss: 0.4169 - accuracy: 0.8556 - val_loss: 0.4079 - val_accuracy: 0.8556\n",
            "Epoch 7/20\n",
            "18/18 [==============================] - 2s 97ms/step - loss: 0.2500 - accuracy: 0.9278 - val_loss: 0.4436 - val_accuracy: 0.8889\n",
            "Epoch 8/20\n",
            "18/18 [==============================] - 2s 108ms/step - loss: 0.2941 - accuracy: 0.9222 - val_loss: 0.3489 - val_accuracy: 0.8667\n",
            "Epoch 9/20\n",
            "18/18 [==============================] - 2s 125ms/step - loss: 0.1705 - accuracy: 0.9444 - val_loss: 0.2338 - val_accuracy: 0.9667\n",
            "Epoch 10/20\n",
            "18/18 [==============================] - 2s 109ms/step - loss: 0.1388 - accuracy: 0.9611 - val_loss: 0.2622 - val_accuracy: 0.9111\n",
            "Epoch 11/20\n",
            "18/18 [==============================] - 2s 137ms/step - loss: 0.0737 - accuracy: 0.9778 - val_loss: 0.1195 - val_accuracy: 0.9556\n",
            "Epoch 12/20\n",
            "18/18 [==============================] - 2s 93ms/step - loss: 0.1403 - accuracy: 0.9667 - val_loss: 0.2845 - val_accuracy: 0.8889\n",
            "Epoch 13/20\n",
            "18/18 [==============================] - 2s 117ms/step - loss: 0.0804 - accuracy: 0.9778 - val_loss: 0.1104 - val_accuracy: 0.9556\n",
            "Epoch 14/20\n",
            "18/18 [==============================] - 2s 104ms/step - loss: 0.1139 - accuracy: 0.9667 - val_loss: 0.1203 - val_accuracy: 0.9667\n",
            "Epoch 15/20\n",
            "18/18 [==============================] - 2s 113ms/step - loss: 0.0438 - accuracy: 0.9944 - val_loss: 0.1108 - val_accuracy: 0.9667\n",
            "Epoch 16/20\n",
            "18/18 [==============================] - 2s 124ms/step - loss: 0.0514 - accuracy: 0.9889 - val_loss: 0.0357 - val_accuracy: 0.9889\n",
            "Epoch 17/20\n",
            "18/18 [==============================] - 2s 108ms/step - loss: 0.0440 - accuracy: 0.9833 - val_loss: 0.0516 - val_accuracy: 0.9778\n",
            "Epoch 18/20\n",
            "18/18 [==============================] - 3s 150ms/step - loss: 0.0502 - accuracy: 0.9884 - val_loss: 0.0624 - val_accuracy: 0.9778\n",
            "Epoch 19/20\n",
            "18/18 [==============================] - 2s 109ms/step - loss: 0.1420 - accuracy: 0.9722 - val_loss: 0.1473 - val_accuracy: 0.9556\n",
            "Epoch 20/20\n",
            "18/18 [==============================] - 2s 108ms/step - loss: 0.0449 - accuracy: 0.9833 - val_loss: 0.1148 - val_accuracy: 0.9778\n"
          ]
        }
      ]
    },
    {
      "cell_type": "code",
      "source": [
        "from sklearn.datasets import load_files\n",
        "from keras.utils import np_utils\n",
        "import numpy as np\n",
        "\n",
        "def load_dataset(path):\n",
        "  data = load_files(path)\n",
        "  paths = np.array(data['filenames'])\n",
        "  targets = np_utils.to_categorical(np.array(data['target']))\n",
        "  return paths, targets\n",
        "\n",
        "test_files, test_targets = load_dataset('Data/test')"
      ],
      "metadata": {
        "id": "WLZTZFliUG2d"
      },
      "execution_count": 9,
      "outputs": []
    },
    {
      "cell_type": "code",
      "source": [
        "import keras.utils as image\n",
        "from keras.applications.vgg16 import preprocess_input\n",
        "from tqdm import tqdm"
      ],
      "metadata": {
        "id": "GKAxwdyvVbva"
      },
      "execution_count": 19,
      "outputs": []
    },
    {
      "cell_type": "code",
      "source": [
        "def path_to_tensor(img_path):\n",
        "  img = image.load_img(img_path, target_size = (224,224))\n",
        "  x = image.img_to_array(img)\n",
        "  return np.expand_dims(x, axis = 0)\n",
        "\n",
        "def paths_to_tensors(img_paths):\n",
        "  list_of_tensors = [path_to_tensor(img_path) for img_path in tqdm(img_paths)]\n",
        "  return np.vstack(list_of_tensors)\n",
        "\n",
        "test_tensors = preprocess_input(paths_to_tensors(test_files))"
      ],
      "metadata": {
        "colab": {
          "base_uri": "https://localhost:8080/"
        },
        "id": "IIUGWBvQVdTU",
        "outputId": "e3fda85f-0a06-43b5-b63f-ebc61b44b15d"
      },
      "execution_count": 20,
      "outputs": [
        {
          "output_type": "stream",
          "name": "stderr",
          "text": [
            "100%|██████████| 50/50 [00:00<00:00, 1128.07it/s]\n"
          ]
        }
      ]
    },
    {
      "cell_type": "code",
      "source": [
        "print('\\n test loss ; {:.4f}\\nTest accuracy: {:.4f}'.format(*new_model.evaluate(test_tensors, test_targets)))"
      ],
      "metadata": {
        "colab": {
          "base_uri": "https://localhost:8080/"
        },
        "id": "KE3EJokaWPkm",
        "outputId": "3145696c-7369-4e9b-84dc-fadc6bc4b7e1"
      },
      "execution_count": 21,
      "outputs": [
        {
          "output_type": "stream",
          "name": "stdout",
          "text": [
            "2/2 [==============================] - 8s 3s/step - loss: 0.2026 - accuracy: 0.9200\n",
            "\n",
            " test loss ; 0.2026\n",
            "Test accuracy: 0.9200\n"
          ]
        }
      ]
    },
    {
      "cell_type": "code",
      "source": [
        "from sklearn.metrics import confusion_matrix\n",
        "import numpy as np\n",
        "\n",
        "cm = confusion_matrix(np.argmax(test_targets, axis = 1), np.argmax(new_model.predict(test_tensors), axis =1))\n",
        "plt.imshow(cm, cmap= plt.cm.Blues)\n",
        "plt.colorbar()\n",
        "cm_label = ['0','1','2','3','4','5','6','7','8','9']\n",
        "indexes = np.arange(len(cm_label))\n",
        "for i in indexes:\n",
        "  for j in indexes:\n",
        "    plt.text(j,i,cm[i,j])\n",
        "plt.xticks(indexes, cm_label, rotation = 90),\n",
        "plt.xlabel('Predictied label')\n",
        "plt.yticks(indexes, cm_label)\n",
        "plt.ylabel('True label')\n",
        "plt.title('Confusion Matrix')\n",
        "plt.show()"
      ],
      "metadata": {
        "colab": {
          "base_uri": "https://localhost:8080/",
          "height": 484
        },
        "id": "_M9Cu-ToYkhp",
        "outputId": "6d4d364c-cb5b-4fca-e081-fafe853e5c49"
      },
      "execution_count": 27,
      "outputs": [
        {
          "output_type": "stream",
          "name": "stdout",
          "text": [
            "2/2 [==============================] - 0s 151ms/step\n"
          ]
        },
        {
          "output_type": "display_data",
          "data": {
            "text/plain": [
              "<Figure size 640x480 with 2 Axes>"
            ],
            "image/png": "[encoded data removed]"
          },
          "metadata": {}
        }
      ]
    },
    {
      "cell_type": "code",
      "source": [],
      "metadata": {
        "id": "QzOlNiCMfiTw"
      },
      "execution_count": null,
      "outputs": []
    }
  ]
}